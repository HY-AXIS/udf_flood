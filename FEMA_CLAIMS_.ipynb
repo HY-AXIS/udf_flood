{
 "cells": [
  {
   "cell_type": "code",
   "execution_count": 2,
   "metadata": {
    "extensions": {
     "jupyter_dashboards": {
      "version": 1,
      "views": {
       "grid_default": {},
       "report_default": {}
      }
     }
    }
   },
   "outputs": [],
   "source": [
    "import pandas as pd\n",
    "import geopandas as gpd\n",
    "import requests as r\n",
    "import numpy as np\n",
    "import seaborn as s\n",
    "from geopy.geocoders import Nominatim\n",
    "import folium\n",
    "from IPython.display import display\n",
    "\n",
    "from ipywidgets import interact, interactive, fixed, interact_manual\n",
    "import ipywidgets as widgets\n",
    "\n",
    "\n",
    "import sqlalchemy as sql\n",
    "import pyodbc\n",
    "from sqlalchemy import create_engine\n",
    "import urllib\n",
    "\n",
    "\n"
   ]
  },
  {
   "cell_type": "markdown",
   "metadata": {},
   "source": [
    "# UDF Flood data dash"
   ]
  },
  {
   "cell_type": "code",
   "execution_count": 4,
   "metadata": {
    "extensions": {
     "jupyter_dashboards": {
      "version": 1,
      "views": {
       "grid_default": {},
       "report_default": {}
      }
     }
    },
    "scrolled": false
   },
   "outputs": [
    {
     "data": {
      "application/vnd.jupyter.widget-view+json": {
       "model_id": "37c66002897b40ee96c7e08d32dbfb9c",
       "version_major": 2,
       "version_minor": 0
      },
      "text/plain": [
       "interactive(children=(Text(value='', description='Risk_Address'), Output()), _dom_classes=('widget-interact',)…"
      ]
     },
     "metadata": {},
     "output_type": "display_data"
    }
   ],
   "source": [
    "@interact(Risk_Address='')\n",
    "def zip_pivot(Risk_Address):\n",
    "    \n",
    "    geolocator = Nominatim(user_agent=\"TEST\")\n",
    "    location = geolocator.geocode(Risk_Address, addressdetails =True)\n",
    "    ZIP=location.raw['address']['postcode']\n",
    "   \n",
    "    A= (location.latitude, location.longitude)\n",
    "    B= (location.raw.get('display_name'))\n",
    "    \n",
    "    conn = pyodbc.connect('DRIVER={ODBC Driver 13 for SQL Server};SERVER=AMSSQL064PV;DATABASE=UDF_FloodData;Trusted_Connection=yes;')\n",
    "\n",
    "    sql = \"Select * From FEMA_999 as F where F.reportedzipcode=\" + str(ZIP)\n",
    "    data = pd.read_sql(sql,conn)\n",
    "    \n",
    "    \n",
    "    sql2 = \"select * from [US-Zips] as a where a.ZIP =\"+ str(ZIP)\n",
    "    data2 = pd.read_sql(sql2,conn)\n",
    "    \n",
    "    data=data[['yearofloss','occupancytype','floodzone', \n",
    "           'amountpaidonbuildingclaim',\n",
    "           'amountpaidoncontentsclaim' ,'amountpaidonincreasedcostofcomplianceclaim',\n",
    "          'reportedzipcode',]]\n",
    "    \n",
    "    df_occ =pd.DataFrame({'CODE':[1,2,3,4,5],\n",
    "                      'OCC':['Single Family','Multi Family','Other Residential','Non Residential','Other']})\n",
    "\n",
    "    \n",
    "    data=data.merge(df_occ,how='left',left_on='occupancytype',right_on='CODE')\n",
    "    data=data.merge(data2,how='left',left_on='reportedzipcode',right_on='ZIP')\n",
    "    \n",
    "    latlong = location.raw['boundingbox']\n",
    "    \n",
    "    \n",
    "    \n",
    "    m = folium.Map(\n",
    "    location= A,\n",
    "    zoom_start=12,\n",
    "    tiles='OpenStreetMap')\n",
    "\n",
    "    tooltip = str(B)\n",
    "\n",
    "    folium.Marker(A, tooltip=tooltip).add_to(m)\n",
    "    \n",
    "    \n",
    "    \n",
    "    return(display(B),display(m),display(data.pivot_table(index=[\"yearofloss\",'OCC','COUNTYNAME','TIER','floodzone','ZIP'], \n",
    "                            values=\"amountpaidonbuildingclaim\", aggfunc=np.sum, fill_value=0)),latlong,data)\n",
    "    \n",
    "    \n"
   ]
  },
  {
   "cell_type": "code",
   "execution_count": 5,
   "metadata": {
    "extensions": {
     "jupyter_dashboards": {
      "version": 1,
      "views": {
       "grid_default": {},
       "report_default": {}
      }
     }
    }
   },
   "outputs": [],
   "source": [
    "\n",
    "from __future__ import print_function\n",
    "from ipywidgets import interact, interactive, fixed, interact_manual\n",
    "import ipywidgets as widgets"
   ]
  },
  {
   "cell_type": "code",
   "execution_count": 52,
   "metadata": {
    "extensions": {
     "jupyter_dashboards": {
      "version": 1,
      "views": {
       "grid_default": {},
       "report_default": {}
      }
     }
    },
    "scrolled": false
   },
   "outputs": [
    {
     "data": {
      "text/html": [
       "<iframe src=https://hazards-fema.maps.arcgis.com/apps/webappviewer/index.html?id=8b0adb51996444d4879338b5529aa9cd&extent=-80.13165701330592,25.869273242942185,-80.11088598669404,25.878926568313886 width=950 height=700></iframe>"
      ],
      "text/plain": [
       "<IPython.core.display.HTML object>"
      ]
     },
     "execution_count": 52,
     "metadata": {},
     "output_type": "execute_result"
    }
   ],
   "source": [
    "# Display the associated webpage in a new window\n",
    "import IPython\n",
    "url = 'https://hazards-fema.maps.arcgis.com/apps/webappviewer/index.html?id=8b0adb51996444d4879338b5529aa9cd&extent=-80.13165701330592,25.869273242942185,-80.11088598669404,25.878926568313886'\n",
    "iframe = '<iframe src=' + url + ' width=950 height=700></iframe>'\n",
    "IPython.display.HTML(iframe)"
   ]
  },
  {
   "cell_type": "code",
   "execution_count": null,
   "metadata": {
    "extensions": {
     "jupyter_dashboards": {
      "version": 1,
      "views": {
       "grid_default": {},
       "report_default": {}
      }
     }
    }
   },
   "outputs": [],
   "source": []
  }
 ],
 "metadata": {
  "extensions": {
   "jupyter_dashboards": {
    "activeView": "grid_default",
    "version": 1,
    "views": {
     "grid_default": {
      "cellMargin": 10,
      "defaultCellHeight": 20,
      "maxColumns": 12,
      "name": "grid",
      "type": "grid"
     },
     "report_default": {
      "name": "report",
      "type": "report"
     }
    }
   }
  },
  "kernelspec": {
   "display_name": "Python 3",
   "language": "python",
   "name": "python3"
  },
  "language_info": {
   "codemirror_mode": {
    "name": "ipython",
    "version": 3
   },
   "file_extension": ".py",
   "mimetype": "text/x-python",
   "name": "python",
   "nbconvert_exporter": "python",
   "pygments_lexer": "ipython3",
   "version": "3.7.4"
  }
 },
 "nbformat": 4,
 "nbformat_minor": 2
}
